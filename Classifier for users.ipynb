{
 "cells": [
  {
   "cell_type": "code",
   "execution_count": 1,
   "metadata": {},
   "outputs": [],
   "source": [
    "import pandas as pd\n",
    "import numpy as np\n",
    "import pickle\n",
    "from sklearn.ensemble import RandomForestClassifier\n",
    "from sklearn.svm import SVC\n",
    "import os, glob"
   ]
  },
  {
   "cell_type": "markdown",
   "metadata": {},
   "source": [
    "# Importing the trained model"
   ]
  },
  {
   "cell_type": "code",
   "execution_count": 2,
   "metadata": {},
   "outputs": [],
   "source": [
    "with open('rf.pkl', 'rb') as file:  \n",
    "    model = pickle.load(file)"
   ]
  },
  {
   "cell_type": "markdown",
   "metadata": {},
   "source": [
    "Write the name of the fodler where the spectra you want to analyse are stored"
   ]
  },
  {
   "cell_type": "code",
   "execution_count": 3,
   "metadata": {},
   "outputs": [],
   "source": [
    "##folder = 'tundmatud' \n",
    "file_dir = 'C:\\\\Users\\\\Karl\\\\Nextcloud\\\\IT_opingud\\\\IR projekt\\\\tundmatud' ## Full path"
   ]
  },
  {
   "cell_type": "markdown",
   "metadata": {},
   "source": [
    "Importing the files from the speciefied folder"
   ]
  },
  {
   "cell_type": "code",
   "execution_count": 4,
   "metadata": {},
   "outputs": [],
   "source": [
    "# create empty list for filenames, change working dir and add all filenames to list\n",
    "filelist = []\n",
    "#file_dir = os.getcwd() + '\\\\' + folder + '\\\\' ## alternative when only the folder name is provided not the full path\n",
    "\n",
    "\n",
    "os.chdir(file_dir)\n",
    "for files in glob.glob('*.CSV'):\n",
    "    filelist.append(files)\n",
    "    \n",
    "df = pd.DataFrame()         # dataframe kuhu andmed kirjutatakse\n",
    "\n",
    "for i in range(len(filelist)):\n",
    "    fileframe = pd.read_csv(filelist[i], header=None, sep=';', index_col=0)\n",
    "    df[filelist[i]] = fileframe.iloc[:,0]\n",
    "    \n",
    "## Repalce all zeros with NaN's\n",
    "df.replace(0, np.nan, inplace = True)\n",
    "\n",
    "# transpose a dataframe\n",
    "df = df.T"
   ]
  },
  {
   "cell_type": "code",
   "execution_count": 6,
   "metadata": {},
   "outputs": [],
   "source": [
    "# Function to calculate difference from global mean\n",
    "def calc_globaldif(dfin):\n",
    "    # fill in NaN's in the spectra\n",
    "    dfin = fillin(dfin)\n",
    "    \n",
    "    # create df with same dims, cols and indexes\n",
    "    dfout = pd.DataFrame(index = dfin.index, columns = dfin.columns)\n",
    "\n",
    "    for i in range(len(dfin.index)):        \n",
    "        dfout.iloc[i,:] = dfin.iloc[i,:] - dfin.iloc[i,:].mean()\n",
    "    \n",
    "    dfout = dfout.astype(float)\n",
    "    return dfout\n",
    "\n",
    "\n",
    "# Function to calculate difference from local average\n",
    "def calc_localdif(dfin, n=10):    \n",
    "    # fill in NaN's in the spectra\n",
    "    dfin = fillin(dfin)\n",
    "    \n",
    "    rows = dfin.shape[0]\n",
    "    cols = dfin.shape[1]\n",
    "    \n",
    "    # create df with same dims, cols and indexes\n",
    "    dfout = pd.DataFrame(index = dfin.index, columns = dfin.columns)\n",
    "\n",
    "    for i in range(rows):\n",
    "        for j in range(n, cols-n):\n",
    "            dfout.iloc[i,j] = dfin.iloc[i,j] - dfin.iloc[i,j-n:j+n].mean()\n",
    "        #print(i)\n",
    "    \n",
    "    dfout = dfout.astype(float)\n",
    "    return dfout\n",
    "\n",
    "\n",
    "# Function to calculate angles for line\n",
    "def calc_angles(dfin, n=10):\n",
    "    \n",
    "    # fill in NaN's in the spectra\n",
    "    dfin = fillin(dfin)\n",
    "    \n",
    "    rows = dfin.shape[0]\n",
    "    cols = dfin.shape[1]\n",
    "    dx = -n * 0.2    # approximation for delta x (acts like a scale factor)\n",
    "\n",
    "    # create df with same dims, cols and indexes\n",
    "    dfout = pd.DataFrame(index = dfin.index, columns = dfin.columns)\n",
    "\n",
    "    for i in range(rows):\n",
    "        # replace all the leading NaN's\n",
    "        dfin.iloc[i,:].mask(dfin.iloc[i,:].ffill().isnull(), dfin.iloc[i,104], inplace=True)\n",
    "        for j in range(n, cols-n):\n",
    "            dy = dfin.iloc[i,j-n] - dfin.iloc[i,j+n]\n",
    "            dfout.iloc[i,j] = np.arctan(dy/dx) * 180/np.pi\n",
    "        #print(i)\n",
    "    \n",
    "    dfout = dfout.astype(float)\n",
    "    return dfout\n",
    "\n",
    "# Function to fill in NAN values in the Spectra using linear interpolation\n",
    "def fillin(dfin):\n",
    "    # fill in NaN's in the middle - use linear interpolation\n",
    "    dfin.interpolate(method=\"linear\", axis=1, inplace=True) \n",
    "    return dfin\n",
    "\n",
    "\n",
    "# Function to standardize df row values\n",
    "# standardization: subtract the mean value and divide with std\n",
    "# output will be the distance from mean in std units\n",
    "def standardize(dfin):\n",
    "    dfout = pd.DataFrame(index = dfin.index, columns = dfin.columns)\n",
    "    \n",
    "    for i in range(len(dfin.index)):        \n",
    "        dfout.iloc[i,:] = (dfin.iloc[i,:] - dfin.iloc[i,:].mean()) / dfin.iloc[i,:].std()\n",
    "            \n",
    "    dfout = dfout.astype(float)\n",
    "    return dfout\n",
    "\n",
    "\n",
    "# Function to normilize df row values\n",
    "# using min max values output will be rescaled to 0...1\n",
    "def normilize(dfin):\n",
    "    dfout = pd.DataFrame(index = dfin.index, columns = dfin.columns)\n",
    "    \n",
    "    for i in range(len(dfin.index)):        \n",
    "        dfout.iloc[i,:] = (dfin.iloc[i,:] - dfin.iloc[i,:].min()) / (dfin.iloc[i,:].max() - dfin.iloc[i,:].min())\n",
    "            \n",
    "    dfout = dfout.astype(float)\n",
    "    return dfout\n",
    "\n",
    "def cut(df):\n",
    "    ## Selecting ranges of interest from the initial spectra\n",
    "    df_1 = selectRange(df, 600, 1800)\n",
    "    df_2 = selectRange(df, 2200, 2300)\n",
    "    df_3 = selectRange(df, 2600, 3800)\n",
    "    \n",
    "    return pd.concat([df_1, df_2, df_3], axis=1)\n",
    "\n",
    "\n",
    "def selectRange(df, range_start, range_end): ## df contains label column as the last column\n",
    "    cols = [c for c in df.columns[:-1] if round(float(c),0) in range(range_start,range_end)]\n",
    "    return df[cols]\n",
    "\n",
    "\n",
    "# Function to fill in NAN values in the Spectra using linear interpolation\n",
    "def fillin(dfin):\n",
    "    # fill in NaN's in the middle - use linear interpolation\n",
    "    dfin.interpolate(method=\"linear\", axis=1, inplace=True) \n",
    "    return dfin\n"
   ]
  },
  {
   "cell_type": "markdown",
   "metadata": {},
   "source": [
    "# Calculating the features for the imported spectra"
   ]
  },
  {
   "cell_type": "code",
   "execution_count": 7,
   "metadata": {},
   "outputs": [],
   "source": [
    "df_glo = cut(standardize(calc_globaldif(df)))\n",
    "df_loc = cut(standardize(calc_localdif(df, 40)))\n",
    "df_ang = cut(standardize(calc_angles(df, 50)))\n",
    "df_all = pd.concat([df_glo, df_loc, df_ang], axis=1)\n"
   ]
  },
  {
   "cell_type": "markdown",
   "metadata": {},
   "source": [
    "# Predicting the type of spectra"
   ]
  },
  {
   "cell_type": "code",
   "execution_count": 8,
   "metadata": {},
   "outputs": [
    {
     "name": "stdout",
     "output_type": "stream",
     "text": [
      "Liili5_HPeets okt2018_test20002.CSV is predicted to be the spectra of viscose\n",
      "Liili5_HPeets okt2018_test30004.CSV is predicted to be the spectra of cotton\n",
      "Liili5_HPeets okt2018_test40003.CSV is predicted to be the spectra of silk\n",
      "Liili5_HPeets okt2018_test50004.CSV is predicted to be the spectra of silk\n"
     ]
    }
   ],
   "source": [
    "labels = {'1.1': 'wool',\n",
    "         '1.5': 'cotton',\n",
    "         '1.6': 'linen',\n",
    "         '1.9': 'jute',\n",
    "         '1.11': 'silk',\n",
    "         '2.1': 'viscose',\n",
    "         '2.3': 'acetate',\n",
    "         '2.6': 'tenzel',\n",
    "         '3.1': 'polyester',\n",
    "         '3.2': 'polyamide',\n",
    "         '3.5': 'polyacrylic',\n",
    "         '3.11': 'elsastane',\n",
    "          '3.12': 'polyethylene',\n",
    "         '3.13': 'polypropylene'}\n",
    "\n",
    "## Performing the classification\n",
    "results = model.predict(df_all)\n",
    "\n",
    "## Printing out the results\n",
    "for i in range(len(results)):\n",
    "    print(filelist[i] + ' is predicted to be the spectra of ' + labels[results[i]])"
   ]
  },
  {
   "cell_type": "code",
   "execution_count": 10,
   "metadata": {},
   "outputs": [
    {
     "data": {
      "text/plain": [
       "array([[0.00666667, 0.01166667, 0.09833333, 0.22      , 0.065     ,\n",
       "        0.585     , 0.        , 0.        , 0.00166667, 0.        ,\n",
       "        0.01      , 0.00166667],\n",
       "       [0.00666667, 0.00833333, 0.44166667, 0.135     , 0.075     ,\n",
       "        0.32833333, 0.00166667, 0.        , 0.00166667, 0.        ,\n",
       "        0.00166667, 0.        ],\n",
       "       [0.01166667, 0.96      , 0.00333333, 0.00166667, 0.        ,\n",
       "        0.        , 0.00166667, 0.00166667, 0.005     , 0.00333333,\n",
       "        0.00666667, 0.005     ],\n",
       "       [0.05      , 0.90666667, 0.00166667, 0.00166667, 0.        ,\n",
       "        0.00833333, 0.        , 0.00333333, 0.005     , 0.005     ,\n",
       "        0.015     , 0.00333333]])"
      ]
     },
     "execution_count": 10,
     "metadata": {},
     "output_type": "execute_result"
    }
   ],
   "source": [
    "model.predict_proba(df_all)"
   ]
  }
 ],
 "metadata": {
  "kernelspec": {
   "display_name": "Python 3",
   "language": "python",
   "name": "python3"
  },
  "language_info": {
   "codemirror_mode": {
    "name": "ipython",
    "version": 3
   },
   "file_extension": ".py",
   "mimetype": "text/x-python",
   "name": "python",
   "nbconvert_exporter": "python",
   "pygments_lexer": "ipython3",
   "version": "3.6.6"
  }
 },
 "nbformat": 4,
 "nbformat_minor": 2
}
